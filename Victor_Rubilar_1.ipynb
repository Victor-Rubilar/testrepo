{
 "cells": [
  {
   "cell_type": "markdown",
   "metadata": {},
   "source": [
    "# Trabajo N°1 Jupyter Notebook"
   ]
  },
  {
   "cell_type": "markdown",
   "metadata": {},
   "source": [
    "## Ejercicio 3 - Cree una celda markdown para una introducción.\n",
    "Este cuaderno está diseñado para explorar los conceptos básicos de la ciencia de datos, incluyendo los lenguajes y bibliotecas utilizados en este campo."
   ]
  },
  {
   "cell_type": "markdown",
   "metadata": {},
   "source": [
    "## Ejercicio 4 - Cree una celda markdown para enumerar los lenguajes de la ciencia de datos.\n",
    "1. Python\n",
    "2. R\n",
    "3. SQL\n",
    "4. Julia\n",
    "5. Scala"
   ]
  },
  {
   "cell_type": "markdown",
   "metadata": {},
   "source": [
    "## Ejercicio 5 - Cree una celda markdown para listar bibliotecas de ciencia de datos\n",
    "**Python**\n",
    "  - Pandas\n",
    "  - NumPy\n",
    "  - Matplotlib\n",
    "  - Scikit-learn\n",
    "**R**\n",
    "  - ggplot2\n",
    "  - dplyr\n",
    "  - care"
   ]
  },
  {
   "cell_type": "markdown",
   "metadata": {},
   "source": [
    "## Ejercicio 6 - Cree una celda markdown con una tabla de herramientas de Ciencia de Datos.\n",
    "\n",
    "| Herramienta         | Descripción                                  |\n",
    "|---------------------|----------------------------------------------|\n",
    "| Jupyter Notebook    | Entorno interactivo para la ciencia de datos |\n",
    "| RStudio             | IDE para R                                   |\n",
    "| Tableau             | Visualización de datos                       |\n",
    "| GitHub              | Control de versiones y colaboración          |"
   ]
  },
  {
   "cell_type": "markdown",
   "metadata": {},
   "source": [
    "## Ejercicio 7 - Cree una celda markdown introduciendo ejemplos de expresiones aritméticas.\n",
    "- Suma: (a + b)\n",
    "- Resta: (a - b)\n",
    "- Multiplicación: (a * b)\n",
    "- División: (a / b)"
   ]
  },
  {
   "cell_type": "markdown",
   "metadata": {},
   "source": [
    "## Ejercicio 8 - Cree una celda de códigopara multiplicar y sumar números."
   ]
  },
  {
   "cell_type": "code",
   "execution_count": 8,
   "metadata": {},
   "outputs": [
    {
     "data": {
      "text/plain": [
       "17"
      ]
     },
     "execution_count": 8,
     "metadata": {},
     "output_type": "execute_result"
    }
   ],
   "source": [
    "a = 3\n",
    "b = 4\n",
    "c = 5\n",
    "(a * b) + c"
   ]
  },
  {
   "cell_type": "markdown",
   "metadata": {},
   "source": [
    "## Ejercicio 9 - Cree una celda de código para convertir minutos en horas."
   ]
  },
  {
   "cell_type": "code",
   "execution_count": 9,
   "metadata": {},
   "outputs": [
    {
     "data": {
      "text/plain": [
       "3.3333333333333335"
      ]
     },
     "execution_count": 9,
     "metadata": {},
     "output_type": "execute_result"
    }
   ],
   "source": [
    "minutos = 200\n",
    "horas = minutos / 60\n",
    "horas"
   ]
  },
  {
   "cell_type": "markdown",
   "metadata": {},
   "source": [
    "## Ejercicio 10 -Inserte una celda de código para listar Objetivos."
   ]
  },
  {
   "cell_type": "code",
   "execution_count": 11,
   "metadata": {},
   "outputs": [
    {
     "data": {
      "text/plain": [
       "['Aprender los fundamentos de la ciencia de datos',\n",
       " 'Explorar diferentes bibliotecas y herramientas',\n",
       " 'Realizar análisis de datos']"
      ]
     },
     "execution_count": 11,
     "metadata": {},
     "output_type": "execute_result"
    }
   ],
   "source": [
    "objetivos =  [\"Aprender los fundamentos de la ciencia de datos\",\n",
    "             \"Explorar diferentes bibliotecas y herramientas\",\n",
    "             \"Realizar análisis de datos\"]\n",
    "objetivos"
   ]
  },
  {
   "cell_type": "markdown",
   "metadata": {},
   "source": [
    "## Ejercicio 11 - Cree una celda markdown para indicar el nombre del Autor.\n",
    "Nombre del Autor: Victor Rubilar"
   ]
  }
 ],
 "metadata": {
  "kernelspec": {
   "display_name": "Python 3 (ipykernel)",
   "language": "python",
   "name": "python3"
  },
  "language_info": {
   "codemirror_mode": {
    "name": "ipython",
    "version": 3
   },
   "file_extension": ".py",
   "mimetype": "text/x-python",
   "name": "python",
   "nbconvert_exporter": "python",
   "pygments_lexer": "ipython3",
   "version": "3.11.9"
  }
 },
 "nbformat": 4,
 "nbformat_minor": 4
}
